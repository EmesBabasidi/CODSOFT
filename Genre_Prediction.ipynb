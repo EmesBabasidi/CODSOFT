{
  "cells": [
    {
      "cell_type": "markdown",
      "metadata": {
        "id": "view-in-github",
        "colab_type": "text"
      },
      "source": [
        "<a href=\"https://colab.research.google.com/github/EmesBabasidi/CODSOFT/blob/main/Genre_Prediction.ipynb\" target=\"_parent\"><img src=\"https://colab.research.google.com/assets/colab-badge.svg\" alt=\"Open In Colab\"/></a>"
      ]
    },
    {
      "cell_type": "markdown",
      "source": [
        "# Importing Libraries\n"
      ],
      "metadata": {
        "id": "ZE4q4oI-MZfn"
      },
      "id": "ZE4q4oI-MZfn"
    },
    {
      "cell_type": "code",
      "execution_count": 1,
      "id": "3cc5074a",
      "metadata": {
        "id": "3cc5074a"
      },
      "outputs": [],
      "source": [
        "import pandas as pd\n",
        "import seaborn as sns\n",
        "import matplotlib.pyplot as plt\n",
        "from sklearn.feature_extraction.text import TfidfVectorizer\n",
        "from sklearn.preprocessing import LabelEncoder\n",
        "from sklearn.model_selection import train_test_split\n",
        "from sklearn.ensemble import RandomForestClassifier\n",
        "from sklearn.metrics import accuracy_score, classification_report\n",
        "from imblearn.over_sampling import SMOTE"
      ]
    },
    {
      "cell_type": "markdown",
      "source": [
        "## Reading and Setting up the dataframe"
      ],
      "metadata": {
        "id": "FTqv86c6M2QZ"
      },
      "id": "FTqv86c6M2QZ"
    },
    {
      "cell_type": "code",
      "execution_count": 2,
      "id": "a320c892",
      "metadata": {
        "id": "a320c892"
      },
      "outputs": [],
      "source": [
        "# Load the data\n",
        "file_path = '/test_data_solution.txt'\n",
        "columns = ['ID', 'TITLE', 'GENRE', 'DESCRIPTION']\n",
        "data = pd.read_csv(file_path, sep=':::', names=columns, engine='python')\n",
        "data.set_index('ID', inplace=True)"
      ]
    },
    {
      "cell_type": "markdown",
      "source": [
        "## Data Preprocessing"
      ],
      "metadata": {
        "id": "nf-UtrLiNHYo"
      },
      "id": "nf-UtrLiNHYo"
    },
    {
      "cell_type": "code",
      "execution_count": 3,
      "id": "f9e63e3a",
      "metadata": {
        "colab": {
          "base_uri": "https://localhost:8080/"
        },
        "id": "f9e63e3a",
        "outputId": "88445ad1-adae-4436-e5bb-27eb663f2844"
      },
      "outputs": [
        {
          "output_type": "stream",
          "name": "stdout",
          "text": [
            "Null values in each column:\n",
            "TITLE          0\n",
            "GENRE          0\n",
            "DESCRIPTION    0\n",
            "dtype: int64\n"
          ]
        }
      ],
      "source": [
        "# Check for null values\n",
        "print(\"Null values in each column:\")\n",
        "print(data.isnull().sum())"
      ]
    },
    {
      "cell_type": "code",
      "execution_count": 4,
      "id": "d063369f",
      "metadata": {
        "id": "d063369f"
      },
      "outputs": [],
      "source": [
        "# Drop rows with missing values, if any\n",
        "if data.isnull().sum().sum() > 0:\n",
        "    data.dropna(inplace=True)"
      ]
    },
    {
      "cell_type": "code",
      "execution_count": 5,
      "id": "63bdac06",
      "metadata": {
        "colab": {
          "base_uri": "https://localhost:8080/"
        },
        "id": "63bdac06",
        "outputId": "51f170ac-be6b-41fa-ff58-77b871a8d826"
      },
      "outputs": [
        {
          "output_type": "stream",
          "name": "stdout",
          "text": [
            "nDataset information:\n",
            "<class 'pandas.core.frame.DataFrame'>\n",
            "Index: 4817 entries, 1 to 4817\n",
            "Data columns (total 3 columns):\n",
            " #   Column       Non-Null Count  Dtype \n",
            "---  ------       --------------  ----- \n",
            " 0   TITLE        4817 non-null   object\n",
            " 1   GENRE        4817 non-null   object\n",
            " 2   DESCRIPTION  4817 non-null   object\n",
            "dtypes: object(3)\n",
            "memory usage: 150.5+ KB\n"
          ]
        }
      ],
      "source": [
        "# Basic information about the dataset\n",
        "print(\"Dataset information:\")\n",
        "data.info()"
      ]
    },
    {
      "cell_type": "code",
      "execution_count": 6,
      "id": "53bedc9e",
      "metadata": {
        "colab": {
          "base_uri": "https://localhost:8080/",
          "height": 192
        },
        "id": "53bedc9e",
        "outputId": "5f0ff543-ef3c-414e-bf2d-f19140541a88"
      },
      "outputs": [
        {
          "output_type": "stream",
          "name": "stdout",
          "text": [
            "Dataset description:\n"
          ]
        },
        {
          "output_type": "execute_result",
          "data": {
            "text/plain": [
              "                         TITLE    GENRE  \\\n",
              "count                     4817     4817   \n",
              "unique                    4817       27   \n",
              "top      Edgar's Lunch (1998)    drama    \n",
              "freq                         1     1257   \n",
              "\n",
              "                                              DESCRIPTION  \n",
              "count                                                4817  \n",
              "unique                                               4814  \n",
              "top      In a small Russian town at the turn of the ce...  \n",
              "freq                                                    2  "
            ],
            "text/html": [
              "\n",
              "  <div id=\"df-22b7c5b1-7188-4d4f-8608-171015852c4c\" class=\"colab-df-container\">\n",
              "    <div>\n",
              "<style scoped>\n",
              "    .dataframe tbody tr th:only-of-type {\n",
              "        vertical-align: middle;\n",
              "    }\n",
              "\n",
              "    .dataframe tbody tr th {\n",
              "        vertical-align: top;\n",
              "    }\n",
              "\n",
              "    .dataframe thead th {\n",
              "        text-align: right;\n",
              "    }\n",
              "</style>\n",
              "<table border=\"1\" class=\"dataframe\">\n",
              "  <thead>\n",
              "    <tr style=\"text-align: right;\">\n",
              "      <th></th>\n",
              "      <th>TITLE</th>\n",
              "      <th>GENRE</th>\n",
              "      <th>DESCRIPTION</th>\n",
              "    </tr>\n",
              "  </thead>\n",
              "  <tbody>\n",
              "    <tr>\n",
              "      <th>count</th>\n",
              "      <td>4817</td>\n",
              "      <td>4817</td>\n",
              "      <td>4817</td>\n",
              "    </tr>\n",
              "    <tr>\n",
              "      <th>unique</th>\n",
              "      <td>4817</td>\n",
              "      <td>27</td>\n",
              "      <td>4814</td>\n",
              "    </tr>\n",
              "    <tr>\n",
              "      <th>top</th>\n",
              "      <td>Edgar's Lunch (1998)</td>\n",
              "      <td>drama</td>\n",
              "      <td>In a small Russian town at the turn of the ce...</td>\n",
              "    </tr>\n",
              "    <tr>\n",
              "      <th>freq</th>\n",
              "      <td>1</td>\n",
              "      <td>1257</td>\n",
              "      <td>2</td>\n",
              "    </tr>\n",
              "  </tbody>\n",
              "</table>\n",
              "</div>\n",
              "    <div class=\"colab-df-buttons\">\n",
              "\n",
              "  <div class=\"colab-df-container\">\n",
              "    <button class=\"colab-df-convert\" onclick=\"convertToInteractive('df-22b7c5b1-7188-4d4f-8608-171015852c4c')\"\n",
              "            title=\"Convert this dataframe to an interactive table.\"\n",
              "            style=\"display:none;\">\n",
              "\n",
              "  <svg xmlns=\"http://www.w3.org/2000/svg\" height=\"24px\" viewBox=\"0 -960 960 960\">\n",
              "    <path d=\"M120-120v-720h720v720H120Zm60-500h600v-160H180v160Zm220 220h160v-160H400v160Zm0 220h160v-160H400v160ZM180-400h160v-160H180v160Zm440 0h160v-160H620v160ZM180-180h160v-160H180v160Zm440 0h160v-160H620v160Z\"/>\n",
              "  </svg>\n",
              "    </button>\n",
              "\n",
              "  <style>\n",
              "    .colab-df-container {\n",
              "      display:flex;\n",
              "      gap: 12px;\n",
              "    }\n",
              "\n",
              "    .colab-df-convert {\n",
              "      background-color: #E8F0FE;\n",
              "      border: none;\n",
              "      border-radius: 50%;\n",
              "      cursor: pointer;\n",
              "      display: none;\n",
              "      fill: #1967D2;\n",
              "      height: 32px;\n",
              "      padding: 0 0 0 0;\n",
              "      width: 32px;\n",
              "    }\n",
              "\n",
              "    .colab-df-convert:hover {\n",
              "      background-color: #E2EBFA;\n",
              "      box-shadow: 0px 1px 2px rgba(60, 64, 67, 0.3), 0px 1px 3px 1px rgba(60, 64, 67, 0.15);\n",
              "      fill: #174EA6;\n",
              "    }\n",
              "\n",
              "    .colab-df-buttons div {\n",
              "      margin-bottom: 4px;\n",
              "    }\n",
              "\n",
              "    [theme=dark] .colab-df-convert {\n",
              "      background-color: #3B4455;\n",
              "      fill: #D2E3FC;\n",
              "    }\n",
              "\n",
              "    [theme=dark] .colab-df-convert:hover {\n",
              "      background-color: #434B5C;\n",
              "      box-shadow: 0px 1px 3px 1px rgba(0, 0, 0, 0.15);\n",
              "      filter: drop-shadow(0px 1px 2px rgba(0, 0, 0, 0.3));\n",
              "      fill: #FFFFFF;\n",
              "    }\n",
              "  </style>\n",
              "\n",
              "    <script>\n",
              "      const buttonEl =\n",
              "        document.querySelector('#df-22b7c5b1-7188-4d4f-8608-171015852c4c button.colab-df-convert');\n",
              "      buttonEl.style.display =\n",
              "        google.colab.kernel.accessAllowed ? 'block' : 'none';\n",
              "\n",
              "      async function convertToInteractive(key) {\n",
              "        const element = document.querySelector('#df-22b7c5b1-7188-4d4f-8608-171015852c4c');\n",
              "        const dataTable =\n",
              "          await google.colab.kernel.invokeFunction('convertToInteractive',\n",
              "                                                    [key], {});\n",
              "        if (!dataTable) return;\n",
              "\n",
              "        const docLinkHtml = 'Like what you see? Visit the ' +\n",
              "          '<a target=\"_blank\" href=https://colab.research.google.com/notebooks/data_table.ipynb>data table notebook</a>'\n",
              "          + ' to learn more about interactive tables.';\n",
              "        element.innerHTML = '';\n",
              "        dataTable['output_type'] = 'display_data';\n",
              "        await google.colab.output.renderOutput(dataTable, element);\n",
              "        const docLink = document.createElement('div');\n",
              "        docLink.innerHTML = docLinkHtml;\n",
              "        element.appendChild(docLink);\n",
              "      }\n",
              "    </script>\n",
              "  </div>\n",
              "\n",
              "\n",
              "<div id=\"df-69931c6b-b022-406b-a44d-40c77414abf4\">\n",
              "  <button class=\"colab-df-quickchart\" onclick=\"quickchart('df-69931c6b-b022-406b-a44d-40c77414abf4')\"\n",
              "            title=\"Suggest charts\"\n",
              "            style=\"display:none;\">\n",
              "\n",
              "<svg xmlns=\"http://www.w3.org/2000/svg\" height=\"24px\"viewBox=\"0 0 24 24\"\n",
              "     width=\"24px\">\n",
              "    <g>\n",
              "        <path d=\"M19 3H5c-1.1 0-2 .9-2 2v14c0 1.1.9 2 2 2h14c1.1 0 2-.9 2-2V5c0-1.1-.9-2-2-2zM9 17H7v-7h2v7zm4 0h-2V7h2v10zm4 0h-2v-4h2v4z\"/>\n",
              "    </g>\n",
              "</svg>\n",
              "  </button>\n",
              "\n",
              "<style>\n",
              "  .colab-df-quickchart {\n",
              "      --bg-color: #E8F0FE;\n",
              "      --fill-color: #1967D2;\n",
              "      --hover-bg-color: #E2EBFA;\n",
              "      --hover-fill-color: #174EA6;\n",
              "      --disabled-fill-color: #AAA;\n",
              "      --disabled-bg-color: #DDD;\n",
              "  }\n",
              "\n",
              "  [theme=dark] .colab-df-quickchart {\n",
              "      --bg-color: #3B4455;\n",
              "      --fill-color: #D2E3FC;\n",
              "      --hover-bg-color: #434B5C;\n",
              "      --hover-fill-color: #FFFFFF;\n",
              "      --disabled-bg-color: #3B4455;\n",
              "      --disabled-fill-color: #666;\n",
              "  }\n",
              "\n",
              "  .colab-df-quickchart {\n",
              "    background-color: var(--bg-color);\n",
              "    border: none;\n",
              "    border-radius: 50%;\n",
              "    cursor: pointer;\n",
              "    display: none;\n",
              "    fill: var(--fill-color);\n",
              "    height: 32px;\n",
              "    padding: 0;\n",
              "    width: 32px;\n",
              "  }\n",
              "\n",
              "  .colab-df-quickchart:hover {\n",
              "    background-color: var(--hover-bg-color);\n",
              "    box-shadow: 0 1px 2px rgba(60, 64, 67, 0.3), 0 1px 3px 1px rgba(60, 64, 67, 0.15);\n",
              "    fill: var(--button-hover-fill-color);\n",
              "  }\n",
              "\n",
              "  .colab-df-quickchart-complete:disabled,\n",
              "  .colab-df-quickchart-complete:disabled:hover {\n",
              "    background-color: var(--disabled-bg-color);\n",
              "    fill: var(--disabled-fill-color);\n",
              "    box-shadow: none;\n",
              "  }\n",
              "\n",
              "  .colab-df-spinner {\n",
              "    border: 2px solid var(--fill-color);\n",
              "    border-color: transparent;\n",
              "    border-bottom-color: var(--fill-color);\n",
              "    animation:\n",
              "      spin 1s steps(1) infinite;\n",
              "  }\n",
              "\n",
              "  @keyframes spin {\n",
              "    0% {\n",
              "      border-color: transparent;\n",
              "      border-bottom-color: var(--fill-color);\n",
              "      border-left-color: var(--fill-color);\n",
              "    }\n",
              "    20% {\n",
              "      border-color: transparent;\n",
              "      border-left-color: var(--fill-color);\n",
              "      border-top-color: var(--fill-color);\n",
              "    }\n",
              "    30% {\n",
              "      border-color: transparent;\n",
              "      border-left-color: var(--fill-color);\n",
              "      border-top-color: var(--fill-color);\n",
              "      border-right-color: var(--fill-color);\n",
              "    }\n",
              "    40% {\n",
              "      border-color: transparent;\n",
              "      border-right-color: var(--fill-color);\n",
              "      border-top-color: var(--fill-color);\n",
              "    }\n",
              "    60% {\n",
              "      border-color: transparent;\n",
              "      border-right-color: var(--fill-color);\n",
              "    }\n",
              "    80% {\n",
              "      border-color: transparent;\n",
              "      border-right-color: var(--fill-color);\n",
              "      border-bottom-color: var(--fill-color);\n",
              "    }\n",
              "    90% {\n",
              "      border-color: transparent;\n",
              "      border-bottom-color: var(--fill-color);\n",
              "    }\n",
              "  }\n",
              "</style>\n",
              "\n",
              "  <script>\n",
              "    async function quickchart(key) {\n",
              "      const quickchartButtonEl =\n",
              "        document.querySelector('#' + key + ' button');\n",
              "      quickchartButtonEl.disabled = true;  // To prevent multiple clicks.\n",
              "      quickchartButtonEl.classList.add('colab-df-spinner');\n",
              "      try {\n",
              "        const charts = await google.colab.kernel.invokeFunction(\n",
              "            'suggestCharts', [key], {});\n",
              "      } catch (error) {\n",
              "        console.error('Error during call to suggestCharts:', error);\n",
              "      }\n",
              "      quickchartButtonEl.classList.remove('colab-df-spinner');\n",
              "      quickchartButtonEl.classList.add('colab-df-quickchart-complete');\n",
              "    }\n",
              "    (() => {\n",
              "      let quickchartButtonEl =\n",
              "        document.querySelector('#df-69931c6b-b022-406b-a44d-40c77414abf4 button');\n",
              "      quickchartButtonEl.style.display =\n",
              "        google.colab.kernel.accessAllowed ? 'block' : 'none';\n",
              "    })();\n",
              "  </script>\n",
              "</div>\n",
              "\n",
              "    </div>\n",
              "  </div>\n"
            ],
            "application/vnd.google.colaboratory.intrinsic+json": {
              "type": "dataframe",
              "summary": "{\n  \"name\": \"data\",\n  \"rows\": 4,\n  \"fields\": [\n    {\n      \"column\": \"TITLE\",\n      \"properties\": {\n        \"dtype\": \"string\",\n        \"num_unique_values\": 3,\n        \"samples\": [\n          \"4817\",\n          \" Edgar's Lunch (1998) \",\n          \"1\"\n        ],\n        \"semantic_type\": \"\",\n        \"description\": \"\"\n      }\n    },\n    {\n      \"column\": \"GENRE\",\n      \"properties\": {\n        \"dtype\": \"string\",\n        \"num_unique_values\": 4,\n        \"samples\": [\n          27,\n          \"1257\",\n          \"4817\"\n        ],\n        \"semantic_type\": \"\",\n        \"description\": \"\"\n      }\n    },\n    {\n      \"column\": \"DESCRIPTION\",\n      \"properties\": {\n        \"dtype\": \"string\",\n        \"num_unique_values\": 4,\n        \"samples\": [\n          4814,\n          \"2\",\n          \"4817\"\n        ],\n        \"semantic_type\": \"\",\n        \"description\": \"\"\n      }\n    }\n  ]\n}"
            }
          },
          "metadata": {},
          "execution_count": 6
        }
      ],
      "source": [
        "# Basic statistics of the dataset\n",
        "print(\"Dataset description:\")\n",
        "data.describe()"
      ]
    },
    {
      "cell_type": "code",
      "execution_count": 7,
      "id": "1c436882",
      "metadata": {
        "colab": {
          "base_uri": "https://localhost:8080/",
          "height": 872
        },
        "id": "1c436882",
        "outputId": "92ee87ea-c07b-40ce-b96d-f1b7fe7a4a49"
      },
      "outputs": [
        {
          "output_type": "display_data",
          "data": {
            "text/plain": [
              "<Figure size 800x1000 with 1 Axes>"
            ],
            "image/png": "[encoded data removed]"
          },
          "metadata": {}
        }
      ],
      "source": [
        "# Distribution of the target variable (GENRE)\n",
        "plt.figure(figsize=(8,10))\n",
        "sns.countplot(data=data, y=\"GENRE\", order= data[\"GENRE\"].value_counts().index)\n",
        "plt.title(\"Genre Distribution\")\n",
        "plt.show()"
      ]
    },
    {
      "cell_type": "code",
      "execution_count": 8,
      "id": "76f8b1f3",
      "metadata": {
        "colab": {
          "base_uri": "https://localhost:8080/",
          "height": 564
        },
        "id": "76f8b1f3",
        "outputId": "febaf0fd-7ab2-4557-ffee-9863b8b340d1"
      },
      "outputs": [
        {
          "output_type": "display_data",
          "data": {
            "text/plain": [
              "<Figure size 1000x600 with 1 Axes>"
            ],
            "image/png": "[encoded data removed]"
          },
          "metadata": {}
        }
      ],
      "source": [
        "# Length of descriptions\n",
        "data['DESCRIPTION_LENGTH'] = data['DESCRIPTION'].apply(len)\n",
        "\n",
        "plt.figure(figsize=(10,6))\n",
        "sns.histplot(data['DESCRIPTION_LENGTH'], kde=True, bins=30)\n",
        "plt.title(\"Distribution of Description Lengths\")\n",
        "plt.show()"
      ]
    },
    {
      "cell_type": "code",
      "execution_count": 9,
      "id": "f613d3ba",
      "metadata": {
        "id": "f613d3ba"
      },
      "outputs": [],
      "source": [
        "# Vectorize the 'DESCRIPTION' text data\n",
        "vectorizer = TfidfVectorizer(max_features=1000, ngram_range=(1, 2))\n",
        "X = vectorizer.fit_transform(data['DESCRIPTION'])"
      ]
    },
    {
      "cell_type": "code",
      "execution_count": 10,
      "id": "281b47fa",
      "metadata": {
        "id": "281b47fa"
      },
      "outputs": [],
      "source": [
        "# Encode the target labels\n",
        "label_encoder = LabelEncoder()\n",
        "y = label_encoder.fit_transform(data['GENRE'])"
      ]
    },
    {
      "cell_type": "markdown",
      "source": [
        "## Using SMOTE\n",
        "As it can be seen from the Genre distribution above, there is a significant imbalance in the data and it need to be handles. One of the ways to do that is using SMOTE(Synthetic Minority Over-sampling Technique)."
      ],
      "metadata": {
        "id": "Ns505Y0yN0W8"
      },
      "id": "Ns505Y0yN0W8"
    },
    {
      "cell_type": "code",
      "execution_count": 11,
      "id": "f586fe1b",
      "metadata": {
        "id": "f586fe1b"
      },
      "outputs": [],
      "source": [
        "# Handle class imbalance using SMOTE\n",
        "smote = SMOTE(random_state=42)\n",
        "X_resampled, y_resampled = smote.fit_resample(X, y)"
      ]
    },
    {
      "cell_type": "code",
      "execution_count": 12,
      "id": "49c5a087",
      "metadata": {
        "id": "49c5a087"
      },
      "outputs": [],
      "source": [
        "# Split the data into training and testing sets with stratification\n",
        "x_train, x_test, y_train, y_test = train_test_split(X_resampled, y_resampled, test_size=0.3, random_state=42, stratify=y_resampled)"
      ]
    },
    {
      "cell_type": "markdown",
      "source": [
        "# Model Training and Tuning.\n",
        "Due to the nature of the data, one of the best model to use is Random Forest Classifier as it effectively handles high-dimensional and potentially noisy data. Also has the abilty to handle imbalance datasets.\n",
        ""
      ],
      "metadata": {
        "id": "F-HA4kOxOu8z"
      },
      "id": "F-HA4kOxOu8z"
    },
    {
      "cell_type": "code",
      "execution_count": 13,
      "id": "7e42ba6b",
      "metadata": {
        "id": "7e42ba6b"
      },
      "outputs": [],
      "source": [
        "# Manual hyperparameter tuning for Random Forest\n",
        "best_accuracy = 0\n",
        "best_params = {}\n",
        "\n",
        "# Iterate over a few selected hyperparameters\n",
        "for n_estimators in [100, 150]:\n",
        "    for max_depth in [10, 20]:\n",
        "        for min_samples_split in [2, 5]:\n",
        "            for min_samples_leaf in [1, 2]:\n",
        "                model = RandomForestClassifier(\n",
        "                    n_estimators=n_estimators,\n",
        "                    max_depth=max_depth,\n",
        "                    min_samples_split=min_samples_split,\n",
        "                    min_samples_leaf=min_samples_leaf,\n",
        "                    random_state=42\n",
        "                )\n",
        "                model.fit(x_train, y_train)\n",
        "                y_pred = model.predict(x_test)\n",
        "                accuracy = accuracy_score(y_test, y_pred)\n",
        "\n",
        "                if accuracy > best_accuracy:\n",
        "                    best_accuracy = accuracy\n",
        "                    best_params = {\n",
        "                        'n_estimators': n_estimators,\n",
        "                        'max_depth': max_depth,\n",
        "                        'min_samples_split': min_samples_split,\n",
        "                        'min_samples_leaf': min_samples_leaf\n",
        "                    }"
      ]
    },
    {
      "cell_type": "code",
      "execution_count": 14,
      "id": "16e1a551",
      "metadata": {
        "id": "16e1a551"
      },
      "outputs": [],
      "source": [
        "# Train the best model\n",
        "best_model = RandomForestClassifier(**best_params, random_state=42)\n",
        "best_model.fit(x_train, y_train)\n",
        "y_pred = best_model.predict(x_test)"
      ]
    },
    {
      "cell_type": "code",
      "execution_count": 15,
      "id": "4fb37e1d",
      "metadata": {
        "id": "4fb37e1d"
      },
      "outputs": [],
      "source": [
        "# Evaluate the model\n",
        "report = classification_report(y_test, y_pred)\n",
        "accuracy = accuracy_score(y_test, y_pred)"
      ]
    },
    {
      "cell_type": "code",
      "execution_count": 16,
      "id": "78d8e04d",
      "metadata": {
        "colab": {
          "base_uri": "https://localhost:8080/"
        },
        "id": "78d8e04d",
        "outputId": "a0a25d92-06e6-4c29-9474-37ee2b33d973"
      },
      "outputs": [
        {
          "output_type": "stream",
          "name": "stdout",
          "text": [
            "Best Hyperparameters: {'n_estimators': 150, 'max_depth': 20, 'min_samples_split': 2, 'min_samples_leaf': 1}\n",
            "Accuracy: 0.94\n",
            "Classification report: \n",
            "              precision    recall  f1-score   support\n",
            "\n",
            "           0       0.97      0.98      0.97       377\n",
            "           1       0.97      0.99      0.98       377\n",
            "           2       1.00      0.99      1.00       377\n",
            "           3       1.00      0.99      0.99       377\n",
            "           4       1.00      1.00      1.00       377\n",
            "           5       0.85      0.63      0.73       377\n",
            "           6       0.97      0.99      0.98       378\n",
            "           7       0.58      0.83      0.68       377\n",
            "           8       0.51      0.51      0.51       377\n",
            "           9       1.00      0.99      0.99       377\n",
            "          10       1.00      0.98      0.99       377\n",
            "          11       1.00      1.00      1.00       377\n",
            "          12       1.00      1.00      1.00       377\n",
            "          13       0.97      0.92      0.95       377\n",
            "          14       0.97      0.98      0.98       378\n",
            "          15       1.00      1.00      1.00       377\n",
            "          16       1.00      0.99      0.99       377\n",
            "          17       1.00      0.99      1.00       377\n",
            "          18       0.98      0.99      0.98       377\n",
            "          19       0.97      0.99      0.98       378\n",
            "          20       0.98      0.99      0.99       377\n",
            "          21       0.85      0.70      0.77       377\n",
            "          22       1.00      0.98      0.99       377\n",
            "          23       0.96      1.00      0.98       377\n",
            "          24       0.98      0.97      0.97       377\n",
            "          25       1.00      1.00      1.00       377\n",
            "          26       0.97      0.98      0.98       377\n",
            "\n",
            "    accuracy                           0.94     10182\n",
            "   macro avg       0.94      0.94      0.94     10182\n",
            "weighted avg       0.94      0.94      0.94     10182\n",
            "\n"
          ]
        }
      ],
      "source": [
        "# Print the best hyperparameters, accuracy, and classification report\n",
        "print(f'Best Hyperparameters: {best_params}')\n",
        "print(f'Accuracy: {accuracy:.2f}')\n",
        "print(f'Classification report: \\n{report}')"
      ]
    }
  ],
  "metadata": {
    "kernelspec": {
      "display_name": "Python 3 (ipykernel)",
      "language": "python",
      "name": "python3"
    },
    "language_info": {
      "codemirror_mode": {
        "name": "ipython",
        "version": 3
      },
      "file_extension": ".py",
      "mimetype": "text/x-python",
      "name": "python",
      "nbconvert_exporter": "python",
      "pygments_lexer": "ipython3",
      "version": "3.11.5"
    },
    "colab": {
      "provenance": [],
      "include_colab_link": true
    }
  },
  "nbformat": 4,
  "nbformat_minor": 5
}